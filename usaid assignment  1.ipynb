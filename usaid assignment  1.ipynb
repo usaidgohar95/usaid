{
 "cells": [
  {
   "cell_type": "code",
   "execution_count": 33,
   "id": "1a60f1dd-bd41-458d-8cb1-0bc5eecac646",
   "metadata": {},
   "outputs": [
    {
     "name": "stdout",
     "output_type": "stream",
     "text": [
      "Name:\tMuhammad Usaid\n",
      "Father's Name:\tShoukat Hussain\n",
      "Date of Birth:\t10-18-2006\n"
     ]
    }
   ],
   "source": [
    "print(\"Name:\\tMuhammad Usaid\\nFather's Name:\\tShoukat Hussain\\nDate of Birth:\\t10-18-2006\")"
   ]
  },
  {
   "cell_type": "code",
   "execution_count": 2,
   "id": "607b620a-4d49-4555-a112-ce676e13d893",
   "metadata": {},
   "outputs": [
    {
     "name": "stdout",
     "output_type": "stream",
     "text": [
      "My name is Nuhammad Usaid. I am 19 years old. I am a Student. My hobby is Reading and Coding.\n"
     ]
    }
   ],
   "source": [
    "name = \"Nuhammad Usaid\"\n",
    "age = 19\n",
    "profession = \"Student\"\n",
    "hobby = \"Reading and Coding\"\n",
    "\n",
    "print(\n",
    "    \"My name is {name}. I am {age} years old. I am a {profession}. My hobby is {hobby}.\")\n"
   ]
  },
  {
   "cell_type": "code",
   "execution_count": 8,
   "id": "9a78f66a-f7cf-420c-8966-a285a1c38913",
   "metadata": {},
   "outputs": [
    {
     "name": "stdout",
     "output_type": "stream",
     "text": [
      "Arithmetic: 13 7 30 3.3333333333333335 1 1000 3\n",
      "Comparison: True False False True True False\n",
      "Logical: True True True\n",
      "x += 2: 7\n",
      "x *= 3: 21\n",
      "Bitwise: 2 11 9 -11 40 2\n"
     ]
    }
   ],
   "source": [
    "a, b = 10, 3\n",
    "\n",
    "# Arithmetic Operators\n",
    "print(\"Arithmetic:\", a+b, a-b, a*b, a/b, a%b, a**b, a//b)\n",
    "\n",
    "# Comparison Operators\n",
    "print(\"Comparison:\", a > b, a < b, a == b, a != b, a >= b, a <= b)\n",
    "\n",
    "# Logical Operators\n",
    "print(\"Logical:\", a > 5 and b < 5, a > 5 or b > 5, not(a < b))\n",
    "\n",
    "# Assignment Operators\n",
    "x = 5\n",
    "x += 2; print(\"x += 2:\", x)\n",
    "x *= 3; print(\"x *= 3:\", x)\n",
    "\n",
    "# Bitwise Operators\n",
    "print(\"Bitwise:\", a & b, a | b, a ^ b, ~a, a << 2, a >> 2)\n"
   ]
  },
  {
   "cell_type": "code",
   "execution_count": 5,
   "id": "0971dfb5-082a-48c6-97a4-d373081d88f1",
   "metadata": {},
   "outputs": [
    {
     "name": "stdout",
     "output_type": "stream",
     "text": [
      "Obtained Marks = 252, Percentage = 84.00%\n"
     ]
    }
   ],
   "source": [
    "english = 73\n",
    "islamiat = 80\n",
    "maths = 99\n",
    "total_marks = 300\n",
    "\n",
    "obtained = english + islamiat + maths\n",
    "percentage = (obtained / total_marks) * 100\n",
    "\n",
    "print(f\"Obtained Marks = {obtained}, Percentage = {percentage:.2f}%\")\n",
    "\n"
   ]
  },
  {
   "cell_type": "code",
   "execution_count": 6,
   "id": "88e67903-c759-4eb5-bda0-16d29dd8ae58",
   "metadata": {},
   "outputs": [
    {
     "name": "stdout",
     "output_type": "stream",
     "text": [
      "\n",
      "Bonus: 1000.0\n"
     ]
    }
   ],
   "source": [
    "\n",
    "salary = 20000\n",
    "years = 6\n",
    "if years > 5:\n",
    "    bonus = salary * 0.05\n",
    "    print(\"\\nBonus:\", bonus)\n",
    "else:\n",
    "    print(\"\\nNo Bonus\")"
   ]
  },
  {
   "cell_type": "code",
   "execution_count": 7,
   "id": "30cd01e8-0ee5-4a11-a69c-abe18b8515e8",
   "metadata": {},
   "outputs": [
    {
     "name": "stdout",
     "output_type": "stream",
     "text": [
      "Eligible to vote\n"
     ]
    }
   ],
   "source": [
    "print(\"Eligible to vote\" if age > 17 else \"Not eligible to vote\")"
   ]
  },
  {
   "cell_type": "code",
   "execution_count": 8,
   "id": "bb0653e9-d80d-46b1-9314-7f107d899d56",
   "metadata": {},
   "outputs": [
    {
     "name": "stdout",
     "output_type": "stream",
     "text": [
      "Odd\n"
     ]
    }
   ],
   "source": []
  },
  {
   "cell_type": "code",
   "execution_count": 9,
   "id": "0dd9c2c3-ebab-46ab-a798-891465cadbf0",
   "metadata": {},
   "outputs": [
    {
     "name": "stdout",
     "output_type": "stream",
     "text": [
      "Divisible by 7\n"
     ]
    }
   ],
   "source": [
    "num = 28\n",
    "print(\"Divisible by 7\" if num % 7 == 0 else \"Not divisible by 7\")"
   ]
  },
  {
   "cell_type": "code",
   "execution_count": 11,
   "id": "9cc13adc-6632-43bc-94a8-2db966311e9a",
   "metadata": {},
   "outputs": [
    {
     "name": "stdout",
     "output_type": "stream",
     "text": [
      "Hello\n"
     ]
    }
   ],
   "source": [
    "num = 25\n",
    "print(\"Hello\" if num % 5 == 0 else \"Bye\")\n"
   ]
  },
  {
   "cell_type": "code",
   "execution_count": 13,
   "id": "9c8ac568-7a65-46e3-ba67-807fd92dd14b",
   "metadata": {},
   "outputs": [
    {
     "name": "stdout",
     "output_type": "stream",
     "text": [
      "Last digit is: 2\n"
     ]
    }
   ],
   "source": [
    "num = 9872\n",
    "print(\"Last digit is:\", num % 10)"
   ]
  },
  {
   "cell_type": "code",
   "execution_count": 14,
   "id": "154f5045-6e26-4fe1-81a4-9b6ccdba517c",
   "metadata": {},
   "outputs": [
    {
     "name": "stdout",
     "output_type": "stream",
     "text": [
      "Square\n"
     ]
    }
   ],
   "source": [
    "l, b = 10, 10\n",
    "print(\"Square\" if l == b else \"Rectangle\")"
   ]
  },
  {
   "cell_type": "code",
   "execution_count": 23,
   "id": "14f98b0c-bf5b-423b-9207-573131d304bc",
   "metadata": {},
   "outputs": [
    {
     "name": "stdout",
     "output_type": "stream",
     "text": [
      "Greatest is: 72\n"
     ]
    }
   ],
   "source": [
    "a == 40, b == 72\n",
    "print(\"Greatest is:\", a if a>b else b)\n"
   ]
  },
  {
   "cell_type": "code",
   "execution_count": 24,
   "id": "8ea4493e-0f03-4bf6-98b4-a3916e21a757",
   "metadata": {},
   "outputs": [
    {
     "name": "stdout",
     "output_type": "stream",
     "text": [
      "Total cost: 1080.0\n"
     ]
    }
   ],
   "source": [
    "qty = 12\n",
    "cost = qty * 100\n",
    "if cost > 1000:\n",
    "    cost = cost - (cost * 0.1)\n",
    "print(\"Total cost:\", cost)"
   ]
  },
  {
   "cell_type": "code",
   "execution_count": 25,
   "id": "aaffd624-0c38-41f3-b213-917727a6b5c0",
   "metadata": {},
   "outputs": [
    {
     "name": "stdout",
     "output_type": "stream",
     "text": [
      "Grade: B\n"
     ]
    }
   ],
   "source": [
    "marks = 77\n",
    "if marks < 25:\n",
    "    grade = \"F\"\n",
    "elif marks < 45:\n",
    "    grade = \"E\"\n",
    "elif marks < 50:\n",
    "    grade = \"D\"\n",
    "elif marks < 60:\n",
    "    grade = \"C\"\n",
    "elif marks < 80:\n",
    "    grade = \"B\"\n",
    "else:\n",
    "    grade = \"A\"\n",
    "print(\"Grade:\", grade)"
   ]
  },
  {
   "cell_type": "code",
   "execution_count": 26,
   "id": "81fd714c-f7d2-4336-a073-1251392f8aa2",
   "metadata": {},
   "outputs": [
    {
     "name": "stdout",
     "output_type": "stream",
     "text": [
      "Oldest: 35\n",
      "Youngest: 18\n"
     ]
    }
   ],
   "source": [
    "a, b, c = 21, 35, 18\n",
    "print(\"Oldest:\", max(a, b, c))\n",
    "print(\"Youngest:\", min(a, b, c))"
   ]
  },
  {
   "cell_type": "code",
   "execution_count": 28,
   "id": "d0ccdf41-90d1-4450-98c7-83c685c2cb37",
   "metadata": {},
   "outputs": [
    {
     "name": "stdout",
     "output_type": "stream",
     "text": [
      "Attendance %: 80.0\n",
      "Allowed in exam\n"
     ]
    }
   ],
   "source": [
    "held = 100\n",
    "attended = 80\n",
    "percentage = (attended / held) * 100\n",
    "print(\"Attendance %:\", percentage)\n",
    "print(\"Allowed in exam\" if percentage >= 75 else \"Not allowed in exam\")"
   ]
  },
  {
   "cell_type": "code",
   "execution_count": 29,
   "id": "207f2127-0c03-4178-805e-fdb11bb48bdf",
   "metadata": {},
   "outputs": [
    {
     "name": "stdout",
     "output_type": "stream",
     "text": [
      "Allowed in exam\n"
     ]
    }
   ],
   "source": [
    "if percentage < 75:\n",
    "    if medical.upper() == \"Y\":\n",
    "        print(\"Allowed in exam due to medical cause\")\n",
    "    else:\n",
    "        print(\"Not allowed in exam\")\n",
    "else:\n",
    "    print(\"Allowed in exam\")"
   ]
  },
  {
   "cell_type": "code",
   "execution_count": 30,
   "id": "6b103821-660f-4ce3-9d11-e9960c776261",
   "metadata": {},
   "outputs": [
    {
     "name": "stdout",
     "output_type": "stream",
     "text": [
      "Leap year\n"
     ]
    }
   ],
   "source": [
    "year = 2024\n",
    "if (year % 400 == 0) or (year % 4 == 0 and year % 100 != 0):\n",
    "    print(\"Leap year\")\n",
    "else:\n",
    "    print(\"Not a leap year\")"
   ]
  },
  {
   "cell_type": "code",
   "execution_count": 31,
   "id": "bb854a70-1e57-451d-bdbf-765cc9e673b4",
   "metadata": {},
   "outputs": [
    {
     "name": "stdout",
     "output_type": "stream",
     "text": [
      "Works in urban areas only\n"
     ]
    }
   ],
   "source": [
    "age = 45\n",
    "gender = \"M\"\n",
    "if gender == \"F\":\n",
    "    print(\"Works in urban areas only\")\n",
    "elif gender == \"M\":\n",
    "    if 20 <= age <= 40:\n",
    "        print(\"Can work anywhere\")\n",
    "    elif 40 < age <= 60:\n",
    "        print(\"Works in urban areas only\")\n",
    "    else:\n",
    "        print(\"ERROR\")\n",
    "else:\n",
    "    print(\"Invalid input\")\n",
    "    "
   ]
  },
  {
   "cell_type": "code",
   "execution_count": 32,
   "id": "4602c1c5-f6a8-4c2d-b04e-8b2dfaecd741",
   "metadata": {},
   "outputs": [
    {
     "name": "stdout",
     "output_type": "stream",
     "text": [
      "Bill: 1500\n"
     ]
    }
   ],
   "source": [
    "units = 350\n",
    "if units <= 100:\n",
    "    bill = 0\n",
    "elif units <= 300:\n",
    "    bill = (units - 100) * 5\n",
    "else:\n",
    "    bill = (200 * 5) + ((units - 300) * 10)\n",
    "print(\"Bill:\", bill)"
   ]
  },
  {
   "cell_type": "code",
   "execution_count": null,
   "id": "05b4b97c-e1fe-4cb2-b5c8-9206d6426101",
   "metadata": {},
   "outputs": [],
   "source": []
  }
 ],
 "metadata": {
  "kernelspec": {
   "display_name": "Python 3 (ipykernel)",
   "language": "python",
   "name": "python3"
  },
  "language_info": {
   "codemirror_mode": {
    "name": "ipython",
    "version": 3
   },
   "file_extension": ".py",
   "mimetype": "text/x-python",
   "name": "python",
   "nbconvert_exporter": "python",
   "pygments_lexer": "ipython3",
   "version": "3.13.5"
  }
 },
 "nbformat": 4,
 "nbformat_minor": 5
}
